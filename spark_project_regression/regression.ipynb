{
 "cells": [
  {
   "cell_type": "markdown",
   "metadata": {},
   "source": [
    "# PySpark and Machine Learning "
   ]
  },
  {
   "cell_type": "code",
   "execution_count": null,
   "metadata": {
    "collapsed": true
   },
   "outputs": [],
   "source": [
    "debug_level = \"WARN\""
   ]
  },
  {
   "cell_type": "code",
   "execution_count": 2,
   "metadata": {},
   "outputs": [
    {
     "name": "stdout",
     "output_type": "stream",
     "text": [
      "Data Attributes ['longitude', 'latitude', 'housingMedianAge', 'totalRooms', 'totalBedrooms', 'population', 'households', 'medianIncome', 'medianHouseValue']\n"
     ]
    }
   ],
   "source": [
    "# ===============================================\n",
    "# Details of Data\n",
    "# ===============================================\n",
    "file = open('data/cal_housing.domain','r')\n",
    "lines = file.readlines()\n",
    "attributes = []\n",
    "for line in lines:\n",
    "\tattribute = line.split(\":\")[0]\n",
    "\tattributes.append(attribute)\n",
    "print(\"Data Attributes\", attributes)"
   ]
  },
  {
   "cell_type": "code",
   "execution_count": 3,
   "metadata": {
    "collapsed": true
   },
   "outputs": [],
   "source": [
    "# ===============================================\n",
    "# Load Data\n",
    "# ===============================================\n",
    "from pyspark import SparkContext\n",
    "sc = SparkContext(\"local\", \"Spark Regression\")\n",
    "sc.setLogLevel(logLevel=debug_level)\n",
    "file_file= \"data/cal_housing.data\"\n",
    "# Reading the file and creating RDD\n",
    "data_rdd = sc.textFile(file_file).cache()\n",
    "# Processing data from txt to list of entries\n",
    "data_rdd = data_rdd.map(lambda line: line.split(\",\"))"
   ]
  },
  {
   "cell_type": "code",
   "execution_count": 4,
   "metadata": {},
   "outputs": [
    {
     "data": {
      "text/plain": [
       "[['-122.230000',\n",
       "  '37.880000',\n",
       "  '41.000000',\n",
       "  '880.000000',\n",
       "  '129.000000',\n",
       "  '322.000000',\n",
       "  '126.000000',\n",
       "  '8.325200',\n",
       "  '452600.000000'],\n",
       " ['-122.220000',\n",
       "  '37.860000',\n",
       "  '21.000000',\n",
       "  '7099.000000',\n",
       "  '1106.000000',\n",
       "  '2401.000000',\n",
       "  '1138.000000',\n",
       "  '8.301400',\n",
       "  '358500.000000']]"
      ]
     },
     "execution_count": 4,
     "metadata": {},
     "output_type": "execute_result"
    }
   ],
   "source": [
    "data_rdd.take(2)"
   ]
  },
  {
   "cell_type": "markdown",
   "metadata": {},
   "source": [
    "# Restructure the data to make RDD to a DataFrame"
   ]
  },
  {
   "cell_type": "code",
   "execution_count": 5,
   "metadata": {
    "collapsed": true
   },
   "outputs": [],
   "source": [
    "# ===============================================\n",
    "# restructure the data to make RDD to a DataFrame\n",
    "# ===============================================\n",
    "# following import will help to convert the spark rows to dataframe\n",
    "from pyspark.sql import SparkSession\n",
    "spark = SparkSession(sc)\n",
    "# this import helps us to convert a list object to a row object in spark\n",
    "from pyspark.sql import Row"
   ]
  },
  {
   "cell_type": "code",
   "execution_count": 6,
   "metadata": {
    "collapsed": true
   },
   "outputs": [],
   "source": [
    "df = data_rdd.map(lambda line: Row(longitude=line[0],\n",
    "                              latitude=line[1],\n",
    "                              housingMedianAge=line[2],\n",
    "                              totalRooms=line[3],\n",
    "                              totalBedRooms=line[4],\n",
    "                              population=line[5],\n",
    "                              households=line[6],\n",
    "                              medianIncome=line[7],\n",
    "                              medianHouseValue=line[8])).toDF()\n"
   ]
  },
  {
   "cell_type": "markdown",
   "metadata": {},
   "source": [
    "## Data details"
   ]
  },
  {
   "cell_type": "code",
   "execution_count": 7,
   "metadata": {},
   "outputs": [
    {
     "name": "stdout",
     "output_type": "stream",
     "text": [
      "+-----------+----------------+---------+-----------+----------------+------------+-----------+-------------+-----------+\n",
      "| households|housingMedianAge| latitude|  longitude|medianHouseValue|medianIncome| population|totalBedRooms| totalRooms|\n",
      "+-----------+----------------+---------+-----------+----------------+------------+-----------+-------------+-----------+\n",
      "| 126.000000|       41.000000|37.880000|-122.230000|   452600.000000|    8.325200| 322.000000|   129.000000| 880.000000|\n",
      "|1138.000000|       21.000000|37.860000|-122.220000|   358500.000000|    8.301400|2401.000000|  1106.000000|7099.000000|\n",
      "| 177.000000|       52.000000|37.850000|-122.240000|   352100.000000|    7.257400| 496.000000|   190.000000|1467.000000|\n",
      "| 219.000000|       52.000000|37.850000|-122.250000|   341300.000000|    5.643100| 558.000000|   235.000000|1274.000000|\n",
      "| 259.000000|       52.000000|37.850000|-122.250000|   342200.000000|    3.846200| 565.000000|   280.000000|1627.000000|\n",
      "| 193.000000|       52.000000|37.850000|-122.250000|   269700.000000|    4.036800| 413.000000|   213.000000| 919.000000|\n",
      "| 514.000000|       52.000000|37.840000|-122.250000|   299200.000000|    3.659100|1094.000000|   489.000000|2535.000000|\n",
      "| 647.000000|       52.000000|37.840000|-122.250000|   241400.000000|    3.120000|1157.000000|   687.000000|3104.000000|\n",
      "| 595.000000|       42.000000|37.840000|-122.260000|   226700.000000|    2.080400|1206.000000|   665.000000|2555.000000|\n",
      "| 714.000000|       52.000000|37.840000|-122.250000|   261100.000000|    3.691200|1551.000000|   707.000000|3549.000000|\n",
      "| 402.000000|       52.000000|37.850000|-122.260000|   281500.000000|    3.203100| 910.000000|   434.000000|2202.000000|\n",
      "| 734.000000|       52.000000|37.850000|-122.260000|   241800.000000|    3.270500|1504.000000|   752.000000|3503.000000|\n",
      "| 468.000000|       52.000000|37.850000|-122.260000|   213500.000000|    3.075000|1098.000000|   474.000000|2491.000000|\n",
      "| 174.000000|       52.000000|37.840000|-122.260000|   191300.000000|    2.673600| 345.000000|   191.000000| 696.000000|\n",
      "| 620.000000|       52.000000|37.850000|-122.260000|   159200.000000|    1.916700|1212.000000|   626.000000|2643.000000|\n",
      "| 264.000000|       50.000000|37.850000|-122.260000|   140000.000000|    2.125000| 697.000000|   283.000000|1120.000000|\n",
      "| 331.000000|       52.000000|37.850000|-122.270000|   152500.000000|    2.775000| 793.000000|   347.000000|1966.000000|\n",
      "| 303.000000|       52.000000|37.850000|-122.270000|   155500.000000|    2.120200| 648.000000|   293.000000|1228.000000|\n",
      "| 419.000000|       50.000000|37.840000|-122.260000|   158700.000000|    1.991100| 990.000000|   455.000000|2239.000000|\n",
      "| 275.000000|       52.000000|37.840000|-122.270000|   162900.000000|    2.603300| 690.000000|   298.000000|1503.000000|\n",
      "+-----------+----------------+---------+-----------+----------------+------------+-----------+-------------+-----------+\n",
      "only showing top 20 rows\n",
      "\n"
     ]
    }
   ],
   "source": [
    "df.show()"
   ]
  },
  {
   "cell_type": "code",
   "execution_count": 8,
   "metadata": {},
   "outputs": [
    {
     "data": {
      "text/plain": [
       "['households',\n",
       " 'housingMedianAge',\n",
       " 'latitude',\n",
       " 'longitude',\n",
       " 'medianHouseValue',\n",
       " 'medianIncome',\n",
       " 'population',\n",
       " 'totalBedRooms',\n",
       " 'totalRooms']"
      ]
     },
     "execution_count": 8,
     "metadata": {},
     "output_type": "execute_result"
    }
   ],
   "source": [
    "df.columns"
   ]
  },
  {
   "cell_type": "code",
   "execution_count": 9,
   "metadata": {},
   "outputs": [
    {
     "data": {
      "text/plain": [
       "[('households', 'string'),\n",
       " ('housingMedianAge', 'string'),\n",
       " ('latitude', 'string'),\n",
       " ('longitude', 'string'),\n",
       " ('medianHouseValue', 'string'),\n",
       " ('medianIncome', 'string'),\n",
       " ('population', 'string'),\n",
       " ('totalBedRooms', 'string'),\n",
       " ('totalRooms', 'string')]"
      ]
     },
     "execution_count": 9,
     "metadata": {},
     "output_type": "execute_result"
    }
   ],
   "source": [
    "df.dtypes"
   ]
  },
  {
   "cell_type": "code",
   "execution_count": 10,
   "metadata": {},
   "outputs": [
    {
     "name": "stdout",
     "output_type": "stream",
     "text": [
      "root\n",
      " |-- households: string (nullable = true)\n",
      " |-- housingMedianAge: string (nullable = true)\n",
      " |-- latitude: string (nullable = true)\n",
      " |-- longitude: string (nullable = true)\n",
      " |-- medianHouseValue: string (nullable = true)\n",
      " |-- medianIncome: string (nullable = true)\n",
      " |-- population: string (nullable = true)\n",
      " |-- totalBedRooms: string (nullable = true)\n",
      " |-- totalRooms: string (nullable = true)\n",
      "\n"
     ]
    }
   ],
   "source": [
    "df.printSchema()"
   ]
  },
  {
   "cell_type": "markdown",
   "metadata": {},
   "source": [
    "## Convert data from string type to float type"
   ]
  },
  {
   "cell_type": "code",
   "execution_count": 11,
   "metadata": {
    "collapsed": true
   },
   "outputs": [],
   "source": [
    "# Our datas are in string format, so for regression model we need to convert that data to float or interger type\n",
    "from pyspark.sql.types import *"
   ]
  },
  {
   "cell_type": "code",
   "execution_count": 12,
   "metadata": {},
   "outputs": [],
   "source": [
    "df = df.withColumn(\"longitude\", df[\"longitude\"].cast(FloatType()))\\\n",
    "\t.withColumn(\"latitude\", df[\"latitude\"].cast(FloatType()))\\\n",
    "\t.withColumn(\"housingMedianAge\",df[\"housingMedianAge\"].cast(FloatType()))\\\n",
    "\t.withColumn(\"totalRooms\", df[\"totalRooms\"].cast(FloatType()))\\\n",
    "\t.withColumn(\"totalBedRooms\", df[\"totalBedRooms\"].cast(FloatType()))\\\n",
    "\t.withColumn(\"population\", df[\"population\"].cast(FloatType()))\\\n",
    "\t.withColumn(\"households\", df[\"households\"].cast(FloatType()))\\\n",
    "\t.withColumn(\"medianIncome\", df[\"medianIncome\"].cast(FloatType()))\\\n",
    "\t.withColumn(\"medianHouseValue\", df[\"medianHouseValue\"].cast(FloatType()))"
   ]
  },
  {
   "cell_type": "code",
   "execution_count": 13,
   "metadata": {},
   "outputs": [
    {
     "name": "stdout",
     "output_type": "stream",
     "text": [
      "root\n",
      " |-- households: float (nullable = true)\n",
      " |-- housingMedianAge: float (nullable = true)\n",
      " |-- latitude: float (nullable = true)\n",
      " |-- longitude: float (nullable = true)\n",
      " |-- medianHouseValue: float (nullable = true)\n",
      " |-- medianIncome: float (nullable = true)\n",
      " |-- population: float (nullable = true)\n",
      " |-- totalBedRooms: float (nullable = true)\n",
      " |-- totalRooms: float (nullable = true)\n",
      "\n"
     ]
    }
   ],
   "source": [
    "df.printSchema()\n",
    "# Now all the column are converted to data frame"
   ]
  },
  {
   "cell_type": "code",
   "execution_count": 14,
   "metadata": {
    "collapsed": true
   },
   "outputs": [],
   "source": [
    "# to write the above conversion in more clearner way\n",
    "def convertColumn(df, names, newType):\n",
    "    for name in names: \n",
    "        df = df.withColumn(name, df[name].cast(newType))\n",
    "    return df\n",
    "\n",
    "df = convertColumn(df, attributes, FloatType())"
   ]
  },
  {
   "cell_type": "code",
   "execution_count": 15,
   "metadata": {},
   "outputs": [
    {
     "name": "stdout",
     "output_type": "stream",
     "text": [
      "+----------+----------------+--------+---------+----------------+------------+----------+-------------+----------+\n",
      "|households|housingMedianAge|latitude|longitude|medianHouseValue|medianIncome|population|totalBedrooms|totalRooms|\n",
      "+----------+----------------+--------+---------+----------------+------------+----------+-------------+----------+\n",
      "|     126.0|            41.0|   37.88|  -122.23|        452600.0|      8.3252|     322.0|        129.0|     880.0|\n",
      "|    1138.0|            21.0|   37.86|  -122.22|        358500.0|      8.3014|    2401.0|       1106.0|    7099.0|\n",
      "|     177.0|            52.0|   37.85|  -122.24|        352100.0|      7.2574|     496.0|        190.0|    1467.0|\n",
      "|     219.0|            52.0|   37.85|  -122.25|        341300.0|      5.6431|     558.0|        235.0|    1274.0|\n",
      "|     259.0|            52.0|   37.85|  -122.25|        342200.0|      3.8462|     565.0|        280.0|    1627.0|\n",
      "|     193.0|            52.0|   37.85|  -122.25|        269700.0|      4.0368|     413.0|        213.0|     919.0|\n",
      "|     514.0|            52.0|   37.84|  -122.25|        299200.0|      3.6591|    1094.0|        489.0|    2535.0|\n",
      "|     647.0|            52.0|   37.84|  -122.25|        241400.0|        3.12|    1157.0|        687.0|    3104.0|\n",
      "|     595.0|            42.0|   37.84|  -122.26|        226700.0|      2.0804|    1206.0|        665.0|    2555.0|\n",
      "|     714.0|            52.0|   37.84|  -122.25|        261100.0|      3.6912|    1551.0|        707.0|    3549.0|\n",
      "|     402.0|            52.0|   37.85|  -122.26|        281500.0|      3.2031|     910.0|        434.0|    2202.0|\n",
      "|     734.0|            52.0|   37.85|  -122.26|        241800.0|      3.2705|    1504.0|        752.0|    3503.0|\n",
      "|     468.0|            52.0|   37.85|  -122.26|        213500.0|       3.075|    1098.0|        474.0|    2491.0|\n",
      "|     174.0|            52.0|   37.84|  -122.26|        191300.0|      2.6736|     345.0|        191.0|     696.0|\n",
      "|     620.0|            52.0|   37.85|  -122.26|        159200.0|      1.9167|    1212.0|        626.0|    2643.0|\n",
      "|     264.0|            50.0|   37.85|  -122.26|        140000.0|       2.125|     697.0|        283.0|    1120.0|\n",
      "|     331.0|            52.0|   37.85|  -122.27|        152500.0|       2.775|     793.0|        347.0|    1966.0|\n",
      "|     303.0|            52.0|   37.85|  -122.27|        155500.0|      2.1202|     648.0|        293.0|    1228.0|\n",
      "|     419.0|            50.0|   37.84|  -122.26|        158700.0|      1.9911|     990.0|        455.0|    2239.0|\n",
      "|     275.0|            52.0|   37.84|  -122.27|        162900.0|      2.6033|     690.0|        298.0|    1503.0|\n",
      "+----------+----------------+--------+---------+----------------+------------+----------+-------------+----------+\n",
      "only showing top 20 rows\n",
      "\n"
     ]
    }
   ],
   "source": [
    "df.show()"
   ]
  },
  {
   "cell_type": "code",
   "execution_count": 16,
   "metadata": {},
   "outputs": [
    {
     "name": "stdout",
     "output_type": "stream",
     "text": [
      "root\n",
      " |-- households: float (nullable = true)\n",
      " |-- housingMedianAge: float (nullable = true)\n",
      " |-- latitude: float (nullable = true)\n",
      " |-- longitude: float (nullable = true)\n",
      " |-- medianHouseValue: float (nullable = true)\n",
      " |-- medianIncome: float (nullable = true)\n",
      " |-- population: float (nullable = true)\n",
      " |-- totalBedrooms: float (nullable = true)\n",
      " |-- totalRooms: float (nullable = true)\n",
      "\n"
     ]
    }
   ],
   "source": [
    "df.printSchema()"
   ]
  },
  {
   "cell_type": "markdown",
   "metadata": {},
   "source": [
    "## Query the dataframe"
   ]
  },
  {
   "cell_type": "code",
   "execution_count": 17,
   "metadata": {},
   "outputs": [
    {
     "name": "stdout",
     "output_type": "stream",
     "text": [
      "+----------+------------+\n",
      "|population|medianIncome|\n",
      "+----------+------------+\n",
      "|     322.0|      8.3252|\n",
      "|    2401.0|      8.3014|\n",
      "|     496.0|      7.2574|\n",
      "|     558.0|      5.6431|\n",
      "|     565.0|      3.8462|\n",
      "|     413.0|      4.0368|\n",
      "|    1094.0|      3.6591|\n",
      "|    1157.0|        3.12|\n",
      "|    1206.0|      2.0804|\n",
      "|    1551.0|      3.6912|\n",
      "+----------+------------+\n",
      "only showing top 10 rows\n",
      "\n"
     ]
    }
   ],
   "source": [
    "df.select('population','medianIncome').show(10)"
   ]
  },
  {
   "cell_type": "code",
   "execution_count": 18,
   "metadata": {},
   "outputs": [
    {
     "name": "stdout",
     "output_type": "stream",
     "text": [
      "+--------+-----+\n",
      "|latitude|count|\n",
      "+--------+-----+\n",
      "|   41.95|    2|\n",
      "|   41.92|    1|\n",
      "|   41.88|    1|\n",
      "|   41.86|    3|\n",
      "|   41.84|    1|\n",
      "|   41.82|    1|\n",
      "|   41.81|    2|\n",
      "|    41.8|    3|\n",
      "|   41.79|    1|\n",
      "|   41.78|    3|\n",
      "|   41.77|    1|\n",
      "|   41.76|    2|\n",
      "|   41.75|    2|\n",
      "|   41.74|    3|\n",
      "|   41.73|    3|\n",
      "|   41.72|    1|\n",
      "|    41.7|    1|\n",
      "|   41.69|    1|\n",
      "|   41.68|    1|\n",
      "|   41.66|    1|\n",
      "+--------+-----+\n",
      "only showing top 20 rows\n",
      "\n"
     ]
    }
   ],
   "source": [
    "df.groupBy(\"latitude\").count().sort(\"latitude\",ascending=False).show()"
   ]
  },
  {
   "cell_type": "code",
   "execution_count": 19,
   "metadata": {},
   "outputs": [
    {
     "name": "stdout",
     "output_type": "stream",
     "text": [
      "+-------+-----------------+------------------+-----------------+-------------------+------------------+------------------+------------------+-----------------+------------------+\n",
      "|summary|       households|  housingMedianAge|         latitude|          longitude|  medianHouseValue|      medianIncome|        population|    totalBedrooms|        totalRooms|\n",
      "+-------+-----------------+------------------+-----------------+-------------------+------------------+------------------+------------------+-----------------+------------------+\n",
      "|  count|            20640|             20640|            20640|              20640|             20640|             20640|             20640|            20640|             20640|\n",
      "|   mean|499.5396802325581|28.639486434108527|35.63186143109965|-119.56970444871473|206855.81690891474|3.8706710030346416|1425.4767441860465|537.8980135658915|2635.7630813953488|\n",
      "| stddev|382.3297528316098| 12.58555761211163|2.135952380602968|  2.003531742932898|115395.61587441359|1.8998217183639696|  1132.46212176534| 421.247905943133|2181.6152515827944|\n",
      "|    min|              1.0|               1.0|            32.54|            -124.35|           14999.0|            0.4999|               3.0|              1.0|               2.0|\n",
      "|    max|           6082.0|              52.0|            41.95|            -114.31|          500001.0|           15.0001|           35682.0|           6445.0|           39320.0|\n",
      "+-------+-----------------+------------------+-----------------+-------------------+------------------+------------------+------------------+-----------------+------------------+\n",
      "\n"
     ]
    }
   ],
   "source": [
    "# this will give the five point summary of each column\n",
    "df.describe().show()"
   ]
  },
  {
   "cell_type": "markdown",
   "metadata": {},
   "source": [
    "# Following will show the mean and std deviation normalization in pandas dataframe. This is just an overview of how we can do our normalization"
   ]
  },
  {
   "cell_type": "code",
   "execution_count": 20,
   "metadata": {},
   "outputs": [],
   "source": [
    "\n",
    "import pandas\n",
    "pandas_df = df.toPandas()"
   ]
  },
  {
   "cell_type": "markdown",
   "metadata": {},
   "source": [
    "### Pandas  Cheat Sheet \n",
    "https://github.com/pandas-dev/pandas/blob/master/doc/cheatsheet/Pandas_Cheat_Sheet.pdf\n",
    "\n",
    "### Spark Cheat Sheet\n",
    "https://s3.amazonaws.com/assets.datacamp.com/blog_assets/PySpark_Cheat_Sheet_Python.pdf"
   ]
  },
  {
   "cell_type": "code",
   "execution_count": 21,
   "metadata": {},
   "outputs": [
    {
     "data": {
      "text/plain": [
       "households          1.461761e+05\n",
       "housingMedianAge    1.583981e+02\n",
       "latitude            4.562310e+00\n",
       "longitude           4.014168e+00\n",
       "medianHouseValue    1.331605e+10\n",
       "medianIncome        3.609316e+00\n",
       "population          1.282468e+06\n",
       "totalBedrooms       1.774493e+05\n",
       "totalRooms          4.759400e+06\n",
       "dtype: float32"
      ]
     },
     "execution_count": 21,
     "metadata": {},
     "output_type": "execute_result"
    }
   ],
   "source": [
    "pandas_df.var()"
   ]
  },
  {
   "cell_type": "code",
   "execution_count": 22,
   "metadata": {},
   "outputs": [
    {
     "data": {
      "text/plain": [
       "households             382.329773\n",
       "housingMedianAge        12.585629\n",
       "latitude                 2.135956\n",
       "longitude                2.003539\n",
       "medianHouseValue    115395.187500\n",
       "medianIncome             1.899820\n",
       "population            1132.460815\n",
       "totalBedrooms          421.247284\n",
       "totalRooms            2181.604736\n",
       "dtype: float32"
      ]
     },
     "execution_count": 22,
     "metadata": {},
     "output_type": "execute_result"
    }
   ],
   "source": [
    "pandas_df.std()"
   ]
  },
  {
   "cell_type": "code",
   "execution_count": 23,
   "metadata": {},
   "outputs": [
    {
     "data": {
      "text/plain": [
       "households             499.539673\n",
       "housingMedianAge        28.639486\n",
       "latitude                35.631866\n",
       "longitude             -119.569115\n",
       "medianHouseValue    206854.968750\n",
       "medianIncome             3.870662\n",
       "population            1425.477905\n",
       "totalBedrooms          537.898010\n",
       "totalRooms            2635.758789\n",
       "dtype: float32"
      ]
     },
     "execution_count": 23,
     "metadata": {},
     "output_type": "execute_result"
    }
   ],
   "source": [
    "pandas_df.mean()"
   ]
  },
  {
   "cell_type": "code",
   "execution_count": 24,
   "metadata": {},
   "outputs": [
    {
     "data": {
      "text/html": [
       "<div>\n",
       "<style scoped>\n",
       "    .dataframe tbody tr th:only-of-type {\n",
       "        vertical-align: middle;\n",
       "    }\n",
       "\n",
       "    .dataframe tbody tr th {\n",
       "        vertical-align: top;\n",
       "    }\n",
       "\n",
       "    .dataframe thead th {\n",
       "        text-align: right;\n",
       "    }\n",
       "</style>\n",
       "<table border=\"1\" class=\"dataframe\">\n",
       "  <thead>\n",
       "    <tr style=\"text-align: right;\">\n",
       "      <th></th>\n",
       "      <th>households</th>\n",
       "      <th>housingMedianAge</th>\n",
       "      <th>latitude</th>\n",
       "      <th>longitude</th>\n",
       "      <th>medianHouseValue</th>\n",
       "      <th>medianIncome</th>\n",
       "      <th>population</th>\n",
       "      <th>totalBedrooms</th>\n",
       "      <th>totalRooms</th>\n",
       "    </tr>\n",
       "  </thead>\n",
       "  <tbody>\n",
       "    <tr>\n",
       "      <th>households</th>\n",
       "      <td>1.461760e+05</td>\n",
       "      <td>-1457.581290</td>\n",
       "      <td>-58.010243</td>\n",
       "      <td>42.368075</td>\n",
       "      <td>2.904924e+06</td>\n",
       "      <td>9.466666</td>\n",
       "      <td>3.928036e+05</td>\n",
       "      <td>1.578069e+05</td>\n",
       "      <td>7.661046e+05</td>\n",
       "    </tr>\n",
       "    <tr>\n",
       "      <th>housingMedianAge</th>\n",
       "      <td>-1.457581e+03</td>\n",
       "      <td>158.396260</td>\n",
       "      <td>0.300345</td>\n",
       "      <td>-2.728244</td>\n",
       "      <td>1.533988e+05</td>\n",
       "      <td>-2.846140</td>\n",
       "      <td>-4.222271e+03</td>\n",
       "      <td>-1.699094e+03</td>\n",
       "      <td>-9.919120e+03</td>\n",
       "    </tr>\n",
       "    <tr>\n",
       "      <th>latitude</th>\n",
       "      <td>-5.801024e+01</td>\n",
       "      <td>0.300345</td>\n",
       "      <td>4.562293</td>\n",
       "      <td>-3.957054</td>\n",
       "      <td>-3.553256e+04</td>\n",
       "      <td>-0.323860</td>\n",
       "      <td>-2.631378e+02</td>\n",
       "      <td>-5.967100e+01</td>\n",
       "      <td>-1.682178e+02</td>\n",
       "    </tr>\n",
       "    <tr>\n",
       "      <th>longitude</th>\n",
       "      <td>4.236807e+01</td>\n",
       "      <td>-2.728244</td>\n",
       "      <td>-3.957054</td>\n",
       "      <td>4.014139</td>\n",
       "      <td>-1.062743e+04</td>\n",
       "      <td>-0.057765</td>\n",
       "      <td>2.263778e+02</td>\n",
       "      <td>5.770951e+01</td>\n",
       "      <td>1.948038e+02</td>\n",
       "    </tr>\n",
       "    <tr>\n",
       "      <th>medianHouseValue</th>\n",
       "      <td>2.904924e+06</td>\n",
       "      <td>153398.801329</td>\n",
       "      <td>-35532.557411</td>\n",
       "      <td>-10627.428451</td>\n",
       "      <td>1.331615e+10</td>\n",
       "      <td>150847.482718</td>\n",
       "      <td>-3.221249e+06</td>\n",
       "      <td>2.459372e+06</td>\n",
       "      <td>3.377289e+07</td>\n",
       "    </tr>\n",
       "    <tr>\n",
       "      <th>medianIncome</th>\n",
       "      <td>9.466666e+00</td>\n",
       "      <td>-2.846140</td>\n",
       "      <td>-0.323860</td>\n",
       "      <td>-0.057765</td>\n",
       "      <td>1.508475e+05</td>\n",
       "      <td>3.609323</td>\n",
       "      <td>1.040098e+01</td>\n",
       "      <td>-6.477002e+00</td>\n",
       "      <td>8.208524e+02</td>\n",
       "    </tr>\n",
       "    <tr>\n",
       "      <th>population</th>\n",
       "      <td>3.928036e+05</td>\n",
       "      <td>-4222.270582</td>\n",
       "      <td>-263.137805</td>\n",
       "      <td>226.377847</td>\n",
       "      <td>-3.221249e+06</td>\n",
       "      <td>10.400978</td>\n",
       "      <td>1.282470e+06</td>\n",
       "      <td>4.188597e+05</td>\n",
       "      <td>2.117613e+06</td>\n",
       "    </tr>\n",
       "    <tr>\n",
       "      <th>totalBedrooms</th>\n",
       "      <td>1.578069e+05</td>\n",
       "      <td>-1699.094476</td>\n",
       "      <td>-59.671004</td>\n",
       "      <td>57.709513</td>\n",
       "      <td>2.459372e+06</td>\n",
       "      <td>-6.477002</td>\n",
       "      <td>4.188597e+05</td>\n",
       "      <td>1.774498e+05</td>\n",
       "      <td>8.545728e+05</td>\n",
       "    </tr>\n",
       "    <tr>\n",
       "      <th>totalRooms</th>\n",
       "      <td>7.661046e+05</td>\n",
       "      <td>-9919.120060</td>\n",
       "      <td>-168.217826</td>\n",
       "      <td>194.803774</td>\n",
       "      <td>3.377289e+07</td>\n",
       "      <td>820.852406</td>\n",
       "      <td>2.117613e+06</td>\n",
       "      <td>8.545728e+05</td>\n",
       "      <td>4.759445e+06</td>\n",
       "    </tr>\n",
       "  </tbody>\n",
       "</table>\n",
       "</div>"
      ],
      "text/plain": [
       "                    households  housingMedianAge      latitude     longitude  \\\n",
       "households        1.461760e+05      -1457.581290    -58.010243     42.368075   \n",
       "housingMedianAge -1.457581e+03        158.396260      0.300345     -2.728244   \n",
       "latitude         -5.801024e+01          0.300345      4.562293     -3.957054   \n",
       "longitude         4.236807e+01         -2.728244     -3.957054      4.014139   \n",
       "medianHouseValue  2.904924e+06     153398.801329 -35532.557411 -10627.428451   \n",
       "medianIncome      9.466666e+00         -2.846140     -0.323860     -0.057765   \n",
       "population        3.928036e+05      -4222.270582   -263.137805    226.377847   \n",
       "totalBedrooms     1.578069e+05      -1699.094476    -59.671004     57.709513   \n",
       "totalRooms        7.661046e+05      -9919.120060   -168.217826    194.803774   \n",
       "\n",
       "                  medianHouseValue   medianIncome    population  \\\n",
       "households            2.904924e+06       9.466666  3.928036e+05   \n",
       "housingMedianAge      1.533988e+05      -2.846140 -4.222271e+03   \n",
       "latitude             -3.553256e+04      -0.323860 -2.631378e+02   \n",
       "longitude            -1.062743e+04      -0.057765  2.263778e+02   \n",
       "medianHouseValue      1.331615e+10  150847.482718 -3.221249e+06   \n",
       "medianIncome          1.508475e+05       3.609323  1.040098e+01   \n",
       "population           -3.221249e+06      10.400978  1.282470e+06   \n",
       "totalBedrooms         2.459372e+06      -6.477002  4.188597e+05   \n",
       "totalRooms            3.377289e+07     820.852406  2.117613e+06   \n",
       "\n",
       "                  totalBedrooms    totalRooms  \n",
       "households         1.578069e+05  7.661046e+05  \n",
       "housingMedianAge  -1.699094e+03 -9.919120e+03  \n",
       "latitude          -5.967100e+01 -1.682178e+02  \n",
       "longitude          5.770951e+01  1.948038e+02  \n",
       "medianHouseValue   2.459372e+06  3.377289e+07  \n",
       "medianIncome      -6.477002e+00  8.208524e+02  \n",
       "population         4.188597e+05  2.117613e+06  \n",
       "totalBedrooms      1.774498e+05  8.545728e+05  \n",
       "totalRooms         8.545728e+05  4.759445e+06  "
      ]
     },
     "execution_count": 24,
     "metadata": {},
     "output_type": "execute_result"
    }
   ],
   "source": [
    "pandas_df.cov()"
   ]
  },
  {
   "cell_type": "code",
   "execution_count": 25,
   "metadata": {},
   "outputs": [],
   "source": [
    "# Normalizing panda dataframe\n",
    "pandas_df_normalized = (pandas_df-pandas_df.mean()) / pandas_df.std()"
   ]
  },
  {
   "cell_type": "code",
   "execution_count": 26,
   "metadata": {},
   "outputs": [
    {
     "data": {
      "text/plain": [
       "households          8.118390e-09\n",
       "housingMedianAge   -2.272080e-07\n",
       "latitude           -2.804416e-06\n",
       "longitude          -2.947520e-04\n",
       "medianHouseValue    7.292773e-06\n",
       "medianIncome        4.650837e-06\n",
       "population         -9.788812e-07\n",
       "totalBedrooms       6.224194e-08\n",
       "totalRooms          1.985943e-06\n",
       "dtype: float32"
      ]
     },
     "execution_count": 26,
     "metadata": {},
     "output_type": "execute_result"
    }
   ],
   "source": [
    "pandas_df_normalized.mean()"
   ]
  },
  {
   "cell_type": "code",
   "execution_count": 27,
   "metadata": {},
   "outputs": [
    {
     "data": {
      "text/plain": [
       "households          0.999997\n",
       "housingMedianAge    1.000017\n",
       "latitude            0.999999\n",
       "longitude           1.000005\n",
       "medianHouseValue    1.000000\n",
       "medianIncome        0.999999\n",
       "population          0.999999\n",
       "totalBedrooms       0.999998\n",
       "totalRooms          1.000005\n",
       "dtype: float32"
      ]
     },
     "execution_count": 27,
     "metadata": {},
     "output_type": "execute_result"
    }
   ],
   "source": [
    "pandas_df_normalized.std()"
   ]
  },
  {
   "cell_type": "code",
   "execution_count": 28,
   "metadata": {},
   "outputs": [
    {
     "data": {
      "text/html": [
       "<div>\n",
       "<style scoped>\n",
       "    .dataframe tbody tr th:only-of-type {\n",
       "        vertical-align: middle;\n",
       "    }\n",
       "\n",
       "    .dataframe tbody tr th {\n",
       "        vertical-align: top;\n",
       "    }\n",
       "\n",
       "    .dataframe thead th {\n",
       "        text-align: right;\n",
       "    }\n",
       "</style>\n",
       "<table border=\"1\" class=\"dataframe\">\n",
       "  <thead>\n",
       "    <tr style=\"text-align: right;\">\n",
       "      <th></th>\n",
       "      <th>households</th>\n",
       "      <th>housingMedianAge</th>\n",
       "      <th>latitude</th>\n",
       "      <th>longitude</th>\n",
       "      <th>medianHouseValue</th>\n",
       "      <th>medianIncome</th>\n",
       "      <th>population</th>\n",
       "      <th>totalBedrooms</th>\n",
       "      <th>totalRooms</th>\n",
       "    </tr>\n",
       "  </thead>\n",
       "  <tbody>\n",
       "    <tr>\n",
       "      <th>households</th>\n",
       "      <td>1.461760e+05</td>\n",
       "      <td>-1457.581290</td>\n",
       "      <td>-58.010243</td>\n",
       "      <td>42.368075</td>\n",
       "      <td>2.904924e+06</td>\n",
       "      <td>9.466666</td>\n",
       "      <td>3.928036e+05</td>\n",
       "      <td>1.578069e+05</td>\n",
       "      <td>7.661046e+05</td>\n",
       "    </tr>\n",
       "    <tr>\n",
       "      <th>housingMedianAge</th>\n",
       "      <td>-1.457581e+03</td>\n",
       "      <td>158.396260</td>\n",
       "      <td>0.300345</td>\n",
       "      <td>-2.728244</td>\n",
       "      <td>1.533988e+05</td>\n",
       "      <td>-2.846140</td>\n",
       "      <td>-4.222271e+03</td>\n",
       "      <td>-1.699094e+03</td>\n",
       "      <td>-9.919120e+03</td>\n",
       "    </tr>\n",
       "    <tr>\n",
       "      <th>latitude</th>\n",
       "      <td>-5.801024e+01</td>\n",
       "      <td>0.300345</td>\n",
       "      <td>4.562293</td>\n",
       "      <td>-3.957054</td>\n",
       "      <td>-3.553256e+04</td>\n",
       "      <td>-0.323860</td>\n",
       "      <td>-2.631378e+02</td>\n",
       "      <td>-5.967100e+01</td>\n",
       "      <td>-1.682178e+02</td>\n",
       "    </tr>\n",
       "    <tr>\n",
       "      <th>longitude</th>\n",
       "      <td>4.236807e+01</td>\n",
       "      <td>-2.728244</td>\n",
       "      <td>-3.957054</td>\n",
       "      <td>4.014139</td>\n",
       "      <td>-1.062743e+04</td>\n",
       "      <td>-0.057765</td>\n",
       "      <td>2.263778e+02</td>\n",
       "      <td>5.770951e+01</td>\n",
       "      <td>1.948038e+02</td>\n",
       "    </tr>\n",
       "    <tr>\n",
       "      <th>medianHouseValue</th>\n",
       "      <td>2.904924e+06</td>\n",
       "      <td>153398.801329</td>\n",
       "      <td>-35532.557411</td>\n",
       "      <td>-10627.428451</td>\n",
       "      <td>1.331615e+10</td>\n",
       "      <td>150847.482718</td>\n",
       "      <td>-3.221249e+06</td>\n",
       "      <td>2.459372e+06</td>\n",
       "      <td>3.377289e+07</td>\n",
       "    </tr>\n",
       "    <tr>\n",
       "      <th>medianIncome</th>\n",
       "      <td>9.466666e+00</td>\n",
       "      <td>-2.846140</td>\n",
       "      <td>-0.323860</td>\n",
       "      <td>-0.057765</td>\n",
       "      <td>1.508475e+05</td>\n",
       "      <td>3.609323</td>\n",
       "      <td>1.040098e+01</td>\n",
       "      <td>-6.477002e+00</td>\n",
       "      <td>8.208524e+02</td>\n",
       "    </tr>\n",
       "    <tr>\n",
       "      <th>population</th>\n",
       "      <td>3.928036e+05</td>\n",
       "      <td>-4222.270582</td>\n",
       "      <td>-263.137805</td>\n",
       "      <td>226.377847</td>\n",
       "      <td>-3.221249e+06</td>\n",
       "      <td>10.400978</td>\n",
       "      <td>1.282470e+06</td>\n",
       "      <td>4.188597e+05</td>\n",
       "      <td>2.117613e+06</td>\n",
       "    </tr>\n",
       "    <tr>\n",
       "      <th>totalBedrooms</th>\n",
       "      <td>1.578069e+05</td>\n",
       "      <td>-1699.094476</td>\n",
       "      <td>-59.671004</td>\n",
       "      <td>57.709513</td>\n",
       "      <td>2.459372e+06</td>\n",
       "      <td>-6.477002</td>\n",
       "      <td>4.188597e+05</td>\n",
       "      <td>1.774498e+05</td>\n",
       "      <td>8.545728e+05</td>\n",
       "    </tr>\n",
       "    <tr>\n",
       "      <th>totalRooms</th>\n",
       "      <td>7.661046e+05</td>\n",
       "      <td>-9919.120060</td>\n",
       "      <td>-168.217826</td>\n",
       "      <td>194.803774</td>\n",
       "      <td>3.377289e+07</td>\n",
       "      <td>820.852406</td>\n",
       "      <td>2.117613e+06</td>\n",
       "      <td>8.545728e+05</td>\n",
       "      <td>4.759445e+06</td>\n",
       "    </tr>\n",
       "  </tbody>\n",
       "</table>\n",
       "</div>"
      ],
      "text/plain": [
       "                    households  housingMedianAge      latitude     longitude  \\\n",
       "households        1.461760e+05      -1457.581290    -58.010243     42.368075   \n",
       "housingMedianAge -1.457581e+03        158.396260      0.300345     -2.728244   \n",
       "latitude         -5.801024e+01          0.300345      4.562293     -3.957054   \n",
       "longitude         4.236807e+01         -2.728244     -3.957054      4.014139   \n",
       "medianHouseValue  2.904924e+06     153398.801329 -35532.557411 -10627.428451   \n",
       "medianIncome      9.466666e+00         -2.846140     -0.323860     -0.057765   \n",
       "population        3.928036e+05      -4222.270582   -263.137805    226.377847   \n",
       "totalBedrooms     1.578069e+05      -1699.094476    -59.671004     57.709513   \n",
       "totalRooms        7.661046e+05      -9919.120060   -168.217826    194.803774   \n",
       "\n",
       "                  medianHouseValue   medianIncome    population  \\\n",
       "households            2.904924e+06       9.466666  3.928036e+05   \n",
       "housingMedianAge      1.533988e+05      -2.846140 -4.222271e+03   \n",
       "latitude             -3.553256e+04      -0.323860 -2.631378e+02   \n",
       "longitude            -1.062743e+04      -0.057765  2.263778e+02   \n",
       "medianHouseValue      1.331615e+10  150847.482718 -3.221249e+06   \n",
       "medianIncome          1.508475e+05       3.609323  1.040098e+01   \n",
       "population           -3.221249e+06      10.400978  1.282470e+06   \n",
       "totalBedrooms         2.459372e+06      -6.477002  4.188597e+05   \n",
       "totalRooms            3.377289e+07     820.852406  2.117613e+06   \n",
       "\n",
       "                  totalBedrooms    totalRooms  \n",
       "households         1.578069e+05  7.661046e+05  \n",
       "housingMedianAge  -1.699094e+03 -9.919120e+03  \n",
       "latitude          -5.967100e+01 -1.682178e+02  \n",
       "longitude          5.770951e+01  1.948038e+02  \n",
       "medianHouseValue   2.459372e+06  3.377289e+07  \n",
       "medianIncome      -6.477002e+00  8.208524e+02  \n",
       "population         4.188597e+05  2.117613e+06  \n",
       "totalBedrooms      1.774498e+05  8.545728e+05  \n",
       "totalRooms         8.545728e+05  4.759445e+06  "
      ]
     },
     "execution_count": 28,
     "metadata": {},
     "output_type": "execute_result"
    }
   ],
   "source": [
    "pandas_df.cov()"
   ]
  },
  {
   "cell_type": "code",
   "execution_count": 29,
   "metadata": {},
   "outputs": [
    {
     "data": {
      "text/html": [
       "<div>\n",
       "<style scoped>\n",
       "    .dataframe tbody tr th:only-of-type {\n",
       "        vertical-align: middle;\n",
       "    }\n",
       "\n",
       "    .dataframe tbody tr th {\n",
       "        vertical-align: top;\n",
       "    }\n",
       "\n",
       "    .dataframe thead th {\n",
       "        text-align: right;\n",
       "    }\n",
       "</style>\n",
       "<table border=\"1\" class=\"dataframe\">\n",
       "  <thead>\n",
       "    <tr style=\"text-align: right;\">\n",
       "      <th></th>\n",
       "      <th>households</th>\n",
       "      <th>housingMedianAge</th>\n",
       "      <th>latitude</th>\n",
       "      <th>longitude</th>\n",
       "      <th>medianHouseValue</th>\n",
       "      <th>medianIncome</th>\n",
       "      <th>population</th>\n",
       "      <th>totalBedrooms</th>\n",
       "      <th>totalRooms</th>\n",
       "    </tr>\n",
       "  </thead>\n",
       "  <tbody>\n",
       "    <tr>\n",
       "      <th>count</th>\n",
       "      <td>20640.000000</td>\n",
       "      <td>20640.000000</td>\n",
       "      <td>20640.000000</td>\n",
       "      <td>20640.000000</td>\n",
       "      <td>20640.00000</td>\n",
       "      <td>20640.000000</td>\n",
       "      <td>20640.000000</td>\n",
       "      <td>20640.000000</td>\n",
       "      <td>20640.000000</td>\n",
       "    </tr>\n",
       "    <tr>\n",
       "      <th>mean</th>\n",
       "      <td>499.539673</td>\n",
       "      <td>28.639486</td>\n",
       "      <td>35.631866</td>\n",
       "      <td>-119.569115</td>\n",
       "      <td>206854.96875</td>\n",
       "      <td>3.870662</td>\n",
       "      <td>1425.477905</td>\n",
       "      <td>537.898010</td>\n",
       "      <td>2635.758789</td>\n",
       "    </tr>\n",
       "    <tr>\n",
       "      <th>std</th>\n",
       "      <td>382.329773</td>\n",
       "      <td>12.585629</td>\n",
       "      <td>2.135956</td>\n",
       "      <td>2.003539</td>\n",
       "      <td>115395.18750</td>\n",
       "      <td>1.899820</td>\n",
       "      <td>1132.460815</td>\n",
       "      <td>421.247284</td>\n",
       "      <td>2181.604736</td>\n",
       "    </tr>\n",
       "    <tr>\n",
       "      <th>min</th>\n",
       "      <td>1.000000</td>\n",
       "      <td>1.000000</td>\n",
       "      <td>32.540001</td>\n",
       "      <td>-124.349998</td>\n",
       "      <td>14999.00000</td>\n",
       "      <td>0.499900</td>\n",
       "      <td>3.000000</td>\n",
       "      <td>1.000000</td>\n",
       "      <td>2.000000</td>\n",
       "    </tr>\n",
       "    <tr>\n",
       "      <th>25%</th>\n",
       "      <td>280.000000</td>\n",
       "      <td>18.000000</td>\n",
       "      <td>33.930000</td>\n",
       "      <td>-121.800003</td>\n",
       "      <td>119600.00000</td>\n",
       "      <td>2.563400</td>\n",
       "      <td>787.000000</td>\n",
       "      <td>295.000000</td>\n",
       "      <td>1447.750000</td>\n",
       "    </tr>\n",
       "    <tr>\n",
       "      <th>50%</th>\n",
       "      <td>409.000000</td>\n",
       "      <td>29.000000</td>\n",
       "      <td>34.259998</td>\n",
       "      <td>-118.489998</td>\n",
       "      <td>179700.00000</td>\n",
       "      <td>3.534800</td>\n",
       "      <td>1166.000000</td>\n",
       "      <td>435.000000</td>\n",
       "      <td>2127.000000</td>\n",
       "    </tr>\n",
       "    <tr>\n",
       "      <th>75%</th>\n",
       "      <td>605.000000</td>\n",
       "      <td>37.000000</td>\n",
       "      <td>37.709999</td>\n",
       "      <td>-118.010002</td>\n",
       "      <td>264725.00000</td>\n",
       "      <td>4.743250</td>\n",
       "      <td>1725.000000</td>\n",
       "      <td>647.000000</td>\n",
       "      <td>3148.000000</td>\n",
       "    </tr>\n",
       "    <tr>\n",
       "      <th>max</th>\n",
       "      <td>6082.000000</td>\n",
       "      <td>52.000000</td>\n",
       "      <td>41.950001</td>\n",
       "      <td>-114.309998</td>\n",
       "      <td>500001.00000</td>\n",
       "      <td>15.000100</td>\n",
       "      <td>35682.000000</td>\n",
       "      <td>6445.000000</td>\n",
       "      <td>39320.000000</td>\n",
       "    </tr>\n",
       "  </tbody>\n",
       "</table>\n",
       "</div>"
      ],
      "text/plain": [
       "         households  housingMedianAge      latitude     longitude  \\\n",
       "count  20640.000000      20640.000000  20640.000000  20640.000000   \n",
       "mean     499.539673         28.639486     35.631866   -119.569115   \n",
       "std      382.329773         12.585629      2.135956      2.003539   \n",
       "min        1.000000          1.000000     32.540001   -124.349998   \n",
       "25%      280.000000         18.000000     33.930000   -121.800003   \n",
       "50%      409.000000         29.000000     34.259998   -118.489998   \n",
       "75%      605.000000         37.000000     37.709999   -118.010002   \n",
       "max     6082.000000         52.000000     41.950001   -114.309998   \n",
       "\n",
       "       medianHouseValue  medianIncome    population  totalBedrooms  \\\n",
       "count       20640.00000  20640.000000  20640.000000   20640.000000   \n",
       "mean       206854.96875      3.870662   1425.477905     537.898010   \n",
       "std        115395.18750      1.899820   1132.460815     421.247284   \n",
       "min         14999.00000      0.499900      3.000000       1.000000   \n",
       "25%        119600.00000      2.563400    787.000000     295.000000   \n",
       "50%        179700.00000      3.534800   1166.000000     435.000000   \n",
       "75%        264725.00000      4.743250   1725.000000     647.000000   \n",
       "max        500001.00000     15.000100  35682.000000    6445.000000   \n",
       "\n",
       "         totalRooms  \n",
       "count  20640.000000  \n",
       "mean    2635.758789  \n",
       "std     2181.604736  \n",
       "min        2.000000  \n",
       "25%     1447.750000  \n",
       "50%     2127.000000  \n",
       "75%     3148.000000  \n",
       "max    39320.000000  "
      ]
     },
     "execution_count": 29,
     "metadata": {},
     "output_type": "execute_result"
    }
   ],
   "source": [
    "pandas_df.describe()"
   ]
  },
  {
   "cell_type": "code",
   "execution_count": 30,
   "metadata": {},
   "outputs": [
    {
     "data": {
      "text/html": [
       "<div>\n",
       "<style scoped>\n",
       "    .dataframe tbody tr th:only-of-type {\n",
       "        vertical-align: middle;\n",
       "    }\n",
       "\n",
       "    .dataframe tbody tr th {\n",
       "        vertical-align: top;\n",
       "    }\n",
       "\n",
       "    .dataframe thead th {\n",
       "        text-align: right;\n",
       "    }\n",
       "</style>\n",
       "<table border=\"1\" class=\"dataframe\">\n",
       "  <thead>\n",
       "    <tr style=\"text-align: right;\">\n",
       "      <th></th>\n",
       "      <th>households</th>\n",
       "      <th>housingMedianAge</th>\n",
       "      <th>latitude</th>\n",
       "      <th>longitude</th>\n",
       "      <th>medianHouseValue</th>\n",
       "      <th>medianIncome</th>\n",
       "      <th>population</th>\n",
       "      <th>totalBedrooms</th>\n",
       "      <th>totalRooms</th>\n",
       "    </tr>\n",
       "  </thead>\n",
       "  <tbody>\n",
       "    <tr>\n",
       "      <th>count</th>\n",
       "      <td>2.064000e+04</td>\n",
       "      <td>2.064000e+04</td>\n",
       "      <td>20640.000000</td>\n",
       "      <td>20640.000000</td>\n",
       "      <td>20640.000000</td>\n",
       "      <td>20640.000000</td>\n",
       "      <td>2.064000e+04</td>\n",
       "      <td>2.064000e+04</td>\n",
       "      <td>20640.000000</td>\n",
       "    </tr>\n",
       "    <tr>\n",
       "      <th>mean</th>\n",
       "      <td>8.118390e-09</td>\n",
       "      <td>-2.272080e-07</td>\n",
       "      <td>-0.000003</td>\n",
       "      <td>-0.000295</td>\n",
       "      <td>0.000007</td>\n",
       "      <td>0.000005</td>\n",
       "      <td>-9.788812e-07</td>\n",
       "      <td>6.224194e-08</td>\n",
       "      <td>0.000002</td>\n",
       "    </tr>\n",
       "    <tr>\n",
       "      <th>std</th>\n",
       "      <td>9.999966e-01</td>\n",
       "      <td>1.000017e+00</td>\n",
       "      <td>0.999999</td>\n",
       "      <td>1.000005</td>\n",
       "      <td>1.000000</td>\n",
       "      <td>0.999999</td>\n",
       "      <td>9.999991e-01</td>\n",
       "      <td>9.999977e-01</td>\n",
       "      <td>1.000005</td>\n",
       "    </tr>\n",
       "    <tr>\n",
       "      <th>min</th>\n",
       "      <td>-1.303952e+00</td>\n",
       "      <td>-2.196115e+00</td>\n",
       "      <td>-1.447532</td>\n",
       "      <td>-2.386220</td>\n",
       "      <td>-1.662599</td>\n",
       "      <td>-1.774254</td>\n",
       "      <td>-1.256095e+00</td>\n",
       "      <td>-1.274544e+00</td>\n",
       "      <td>-1.207258</td>\n",
       "    </tr>\n",
       "    <tr>\n",
       "      <th>25%</th>\n",
       "      <td>-5.742155e-01</td>\n",
       "      <td>-8.453679e-01</td>\n",
       "      <td>-0.796770</td>\n",
       "      <td>-1.113474</td>\n",
       "      <td>-0.756140</td>\n",
       "      <td>-0.688098</td>\n",
       "      <td>-5.637969e-01</td>\n",
       "      <td>-5.766162e-01</td>\n",
       "      <td>-0.544557</td>\n",
       "    </tr>\n",
       "    <tr>\n",
       "      <th>50%</th>\n",
       "      <td>-2.368104e-01</td>\n",
       "      <td>2.864487e-02</td>\n",
       "      <td>-0.642273</td>\n",
       "      <td>0.538605</td>\n",
       "      <td>-0.235322</td>\n",
       "      <td>-0.176786</td>\n",
       "      <td>-2.291275e-01</td>\n",
       "      <td>-2.442698e-01</td>\n",
       "      <td>-0.233204</td>\n",
       "    </tr>\n",
       "    <tr>\n",
       "      <th>75%</th>\n",
       "      <td>2.758360e-01</td>\n",
       "      <td>6.642905e-01</td>\n",
       "      <td>0.972928</td>\n",
       "      <td>0.778179</td>\n",
       "      <td>0.501494</td>\n",
       "      <td>0.459300</td>\n",
       "      <td>2.644878e-01</td>\n",
       "      <td>2.589975e-01</td>\n",
       "      <td>0.234800</td>\n",
       "    </tr>\n",
       "    <tr>\n",
       "      <th>max</th>\n",
       "      <td>1.460117e+01</td>\n",
       "      <td>1.856126e+00</td>\n",
       "      <td>2.957989</td>\n",
       "      <td>2.624914</td>\n",
       "      <td>2.540366</td>\n",
       "      <td>5.858155</td>\n",
       "      <td>3.024963e+01</td>\n",
       "      <td>1.402288e+01</td>\n",
       "      <td>16.815256</td>\n",
       "    </tr>\n",
       "  </tbody>\n",
       "</table>\n",
       "</div>"
      ],
      "text/plain": [
       "         households  housingMedianAge      latitude     longitude  \\\n",
       "count  2.064000e+04      2.064000e+04  20640.000000  20640.000000   \n",
       "mean   8.118390e-09     -2.272080e-07     -0.000003     -0.000295   \n",
       "std    9.999966e-01      1.000017e+00      0.999999      1.000005   \n",
       "min   -1.303952e+00     -2.196115e+00     -1.447532     -2.386220   \n",
       "25%   -5.742155e-01     -8.453679e-01     -0.796770     -1.113474   \n",
       "50%   -2.368104e-01      2.864487e-02     -0.642273      0.538605   \n",
       "75%    2.758360e-01      6.642905e-01      0.972928      0.778179   \n",
       "max    1.460117e+01      1.856126e+00      2.957989      2.624914   \n",
       "\n",
       "       medianHouseValue  medianIncome    population  totalBedrooms  \\\n",
       "count      20640.000000  20640.000000  2.064000e+04   2.064000e+04   \n",
       "mean           0.000007      0.000005 -9.788812e-07   6.224194e-08   \n",
       "std            1.000000      0.999999  9.999991e-01   9.999977e-01   \n",
       "min           -1.662599     -1.774254 -1.256095e+00  -1.274544e+00   \n",
       "25%           -0.756140     -0.688098 -5.637969e-01  -5.766162e-01   \n",
       "50%           -0.235322     -0.176786 -2.291275e-01  -2.442698e-01   \n",
       "75%            0.501494      0.459300  2.644878e-01   2.589975e-01   \n",
       "max            2.540366      5.858155  3.024963e+01   1.402288e+01   \n",
       "\n",
       "         totalRooms  \n",
       "count  20640.000000  \n",
       "mean       0.000002  \n",
       "std        1.000005  \n",
       "min       -1.207258  \n",
       "25%       -0.544557  \n",
       "50%       -0.233204  \n",
       "75%        0.234800  \n",
       "max       16.815256  "
      ]
     },
     "execution_count": 30,
     "metadata": {},
     "output_type": "execute_result"
    }
   ],
   "source": [
    "pandas_df_normalized.describe()"
   ]
  },
  {
   "cell_type": "markdown",
   "metadata": {},
   "source": [
    "# Data Preprocessing\n",
    "\n",
    "## Normalization\n",
    "\n",
    "#### As we can see her the variance and standard deviation is more so we have to normalize the data before applying any model to fit from above covariance matrix and five point summary table"
   ]
  },
  {
   "cell_type": "code",
   "execution_count": 31,
   "metadata": {},
   "outputs": [
    {
     "name": "stdout",
     "output_type": "stream",
     "text": [
      "+----------+----------------+--------+---------+----------------+------------+----------+-------------+----------+\n",
      "|households|housingMedianAge|latitude|longitude|medianHouseValue|medianIncome|population|totalBedrooms|totalRooms|\n",
      "+----------+----------------+--------+---------+----------------+------------+----------+-------------+----------+\n",
      "|     126.0|            41.0|   37.88|  -122.23|        452600.0|      8.3252|     322.0|        129.0|     880.0|\n",
      "|    1138.0|            21.0|   37.86|  -122.22|        358500.0|      8.3014|    2401.0|       1106.0|    7099.0|\n",
      "|     177.0|            52.0|   37.85|  -122.24|        352100.0|      7.2574|     496.0|        190.0|    1467.0|\n",
      "|     219.0|            52.0|   37.85|  -122.25|        341300.0|      5.6431|     558.0|        235.0|    1274.0|\n",
      "|     259.0|            52.0|   37.85|  -122.25|        342200.0|      3.8462|     565.0|        280.0|    1627.0|\n",
      "|     193.0|            52.0|   37.85|  -122.25|        269700.0|      4.0368|     413.0|        213.0|     919.0|\n",
      "|     514.0|            52.0|   37.84|  -122.25|        299200.0|      3.6591|    1094.0|        489.0|    2535.0|\n",
      "|     647.0|            52.0|   37.84|  -122.25|        241400.0|        3.12|    1157.0|        687.0|    3104.0|\n",
      "|     595.0|            42.0|   37.84|  -122.26|        226700.0|      2.0804|    1206.0|        665.0|    2555.0|\n",
      "|     714.0|            52.0|   37.84|  -122.25|        261100.0|      3.6912|    1551.0|        707.0|    3549.0|\n",
      "|     402.0|            52.0|   37.85|  -122.26|        281500.0|      3.2031|     910.0|        434.0|    2202.0|\n",
      "|     734.0|            52.0|   37.85|  -122.26|        241800.0|      3.2705|    1504.0|        752.0|    3503.0|\n",
      "|     468.0|            52.0|   37.85|  -122.26|        213500.0|       3.075|    1098.0|        474.0|    2491.0|\n",
      "|     174.0|            52.0|   37.84|  -122.26|        191300.0|      2.6736|     345.0|        191.0|     696.0|\n",
      "|     620.0|            52.0|   37.85|  -122.26|        159200.0|      1.9167|    1212.0|        626.0|    2643.0|\n",
      "|     264.0|            50.0|   37.85|  -122.26|        140000.0|       2.125|     697.0|        283.0|    1120.0|\n",
      "|     331.0|            52.0|   37.85|  -122.27|        152500.0|       2.775|     793.0|        347.0|    1966.0|\n",
      "|     303.0|            52.0|   37.85|  -122.27|        155500.0|      2.1202|     648.0|        293.0|    1228.0|\n",
      "|     419.0|            50.0|   37.84|  -122.26|        158700.0|      1.9911|     990.0|        455.0|    2239.0|\n",
      "|     275.0|            52.0|   37.84|  -122.27|        162900.0|      2.6033|     690.0|        298.0|    1503.0|\n",
      "+----------+----------------+--------+---------+----------------+------------+----------+-------------+----------+\n",
      "only showing top 20 rows\n",
      "\n"
     ]
    }
   ],
   "source": [
    "from pyspark.sql.functions import *\n",
    "df.show()"
   ]
  },
  {
   "cell_type": "code",
   "execution_count": 32,
   "metadata": {},
   "outputs": [
    {
     "name": "stdout",
     "output_type": "stream",
     "text": [
      "+---------------------+\n",
      "|max(medianHouseValue)|\n",
      "+---------------------+\n",
      "|             500001.0|\n",
      "+---------------------+\n",
      "\n"
     ]
    }
   ],
   "source": [
    "df.agg(max(\"medianHouseValue\")).show()"
   ]
  },
  {
   "cell_type": "code",
   "execution_count": 33,
   "metadata": {
    "collapsed": true
   },
   "outputs": [],
   "source": [
    "df = df.withColumn(\"medianHouseValue\", col(\"medianHouseValue\")/100000)"
   ]
  },
  {
   "cell_type": "code",
   "execution_count": 34,
   "metadata": {},
   "outputs": [
    {
     "name": "stdout",
     "output_type": "stream",
     "text": [
      "+----------+----------------+--------+---------+----------------+------------+----------+-------------+----------+\n",
      "|households|housingMedianAge|latitude|longitude|medianHouseValue|medianIncome|population|totalBedrooms|totalRooms|\n",
      "+----------+----------------+--------+---------+----------------+------------+----------+-------------+----------+\n",
      "|     126.0|            41.0|   37.88|  -122.23|           4.526|      8.3252|     322.0|        129.0|     880.0|\n",
      "|    1138.0|            21.0|   37.86|  -122.22|           3.585|      8.3014|    2401.0|       1106.0|    7099.0|\n",
      "|     177.0|            52.0|   37.85|  -122.24|           3.521|      7.2574|     496.0|        190.0|    1467.0|\n",
      "|     219.0|            52.0|   37.85|  -122.25|           3.413|      5.6431|     558.0|        235.0|    1274.0|\n",
      "|     259.0|            52.0|   37.85|  -122.25|           3.422|      3.8462|     565.0|        280.0|    1627.0|\n",
      "|     193.0|            52.0|   37.85|  -122.25|           2.697|      4.0368|     413.0|        213.0|     919.0|\n",
      "|     514.0|            52.0|   37.84|  -122.25|           2.992|      3.6591|    1094.0|        489.0|    2535.0|\n",
      "|     647.0|            52.0|   37.84|  -122.25|           2.414|        3.12|    1157.0|        687.0|    3104.0|\n",
      "|     595.0|            42.0|   37.84|  -122.26|           2.267|      2.0804|    1206.0|        665.0|    2555.0|\n",
      "|     714.0|            52.0|   37.84|  -122.25|           2.611|      3.6912|    1551.0|        707.0|    3549.0|\n",
      "|     402.0|            52.0|   37.85|  -122.26|           2.815|      3.2031|     910.0|        434.0|    2202.0|\n",
      "|     734.0|            52.0|   37.85|  -122.26|           2.418|      3.2705|    1504.0|        752.0|    3503.0|\n",
      "|     468.0|            52.0|   37.85|  -122.26|           2.135|       3.075|    1098.0|        474.0|    2491.0|\n",
      "|     174.0|            52.0|   37.84|  -122.26|           1.913|      2.6736|     345.0|        191.0|     696.0|\n",
      "|     620.0|            52.0|   37.85|  -122.26|           1.592|      1.9167|    1212.0|        626.0|    2643.0|\n",
      "|     264.0|            50.0|   37.85|  -122.26|             1.4|       2.125|     697.0|        283.0|    1120.0|\n",
      "|     331.0|            52.0|   37.85|  -122.27|           1.525|       2.775|     793.0|        347.0|    1966.0|\n",
      "|     303.0|            52.0|   37.85|  -122.27|           1.555|      2.1202|     648.0|        293.0|    1228.0|\n",
      "|     419.0|            50.0|   37.84|  -122.26|           1.587|      1.9911|     990.0|        455.0|    2239.0|\n",
      "|     275.0|            52.0|   37.84|  -122.27|           1.629|      2.6033|     690.0|        298.0|    1503.0|\n",
      "+----------+----------------+--------+---------+----------------+------------+----------+-------------+----------+\n",
      "only showing top 20 rows\n",
      "\n"
     ]
    }
   ],
   "source": [
    "df.show()"
   ]
  },
  {
   "cell_type": "markdown",
   "metadata": {},
   "source": [
    "## Following steps will create a dependency in the data by adding new data column as follows"
   ]
  },
  {
   "cell_type": "code",
   "execution_count": 35,
   "metadata": {
    "collapsed": true
   },
   "outputs": [],
   "source": [
    "roomsPerHousehold = df.select(col(\"totalRooms\")/col(\"households\"))"
   ]
  },
  {
   "cell_type": "code",
   "execution_count": 36,
   "metadata": {
    "collapsed": true
   },
   "outputs": [],
   "source": [
    "populationPerHousehold = df.select(col(\"population\")/col(\"households\"))"
   ]
  },
  {
   "cell_type": "code",
   "execution_count": 37,
   "metadata": {
    "collapsed": true
   },
   "outputs": [],
   "source": [
    "bedroomsPerRoom = df.select(col(\"totalBedRooms\")/col(\"totalRooms\"))"
   ]
  },
  {
   "cell_type": "code",
   "execution_count": 38,
   "metadata": {
    "collapsed": true
   },
   "outputs": [],
   "source": [
    "df = df.withColumn(\"roomsPerHousehold\", col(\"totalRooms\")/col(\"households\")) \\\n",
    "   .withColumn(\"populationPerHousehold\", col(\"population\")/col(\"households\")) \\\n",
    "   .withColumn(\"bedroomsPerRoom\", col(\"totalBedRooms\")/col(\"totalRooms\"))"
   ]
  },
  {
   "cell_type": "code",
   "execution_count": 39,
   "metadata": {},
   "outputs": [
    {
     "name": "stdout",
     "output_type": "stream",
     "text": [
      "+----------+----------------+--------+---------+----------------+------------+----------+-------------+----------+------------------+----------------------+-------------------+\n",
      "|households|housingMedianAge|latitude|longitude|medianHouseValue|medianIncome|population|totalBedrooms|totalRooms| roomsPerHousehold|populationPerHousehold|    bedroomsPerRoom|\n",
      "+----------+----------------+--------+---------+----------------+------------+----------+-------------+----------+------------------+----------------------+-------------------+\n",
      "|     126.0|            41.0|   37.88|  -122.23|           4.526|      8.3252|     322.0|        129.0|     880.0| 6.984126984126984|    2.5555555555555554|0.14659090909090908|\n",
      "|    1138.0|            21.0|   37.86|  -122.22|           3.585|      8.3014|    2401.0|       1106.0|    7099.0| 6.238137082601054|     2.109841827768014|0.15579659106916466|\n",
      "|     177.0|            52.0|   37.85|  -122.24|           3.521|      7.2574|     496.0|        190.0|    1467.0| 8.288135593220339|    2.8022598870056497|0.12951601908657123|\n",
      "|     219.0|            52.0|   37.85|  -122.25|           3.413|      5.6431|     558.0|        235.0|    1274.0|5.8173515981735155|     2.547945205479452|0.18445839874411302|\n",
      "|     259.0|            52.0|   37.85|  -122.25|           3.422|      3.8462|     565.0|        280.0|    1627.0| 6.281853281853282|    2.1814671814671813| 0.1720958819913952|\n",
      "|     193.0|            52.0|   37.85|  -122.25|           2.697|      4.0368|     413.0|        213.0|     919.0| 4.761658031088083|     2.139896373056995|0.23177366702937977|\n",
      "|     514.0|            52.0|   37.84|  -122.25|           2.992|      3.6591|    1094.0|        489.0|    2535.0|4.9319066147859925|    2.1284046692607004|0.19289940828402366|\n",
      "|     647.0|            52.0|   37.84|  -122.25|           2.414|        3.12|    1157.0|        687.0|    3104.0| 4.797527047913447|    1.7882534775888717|0.22132731958762886|\n",
      "|     595.0|            42.0|   37.84|  -122.26|           2.267|      2.0804|    1206.0|        665.0|    2555.0| 4.294117647058823|     2.026890756302521| 0.2602739726027397|\n",
      "|     714.0|            52.0|   37.84|  -122.25|           2.611|      3.6912|    1551.0|        707.0|    3549.0| 4.970588235294118|     2.172268907563025| 0.1992110453648915|\n",
      "|     402.0|            52.0|   37.85|  -122.26|           2.815|      3.2031|     910.0|        434.0|    2202.0| 5.477611940298507|     2.263681592039801|0.19709355131698456|\n",
      "|     734.0|            52.0|   37.85|  -122.26|           2.418|      3.2705|    1504.0|        752.0|    3503.0| 4.772479564032698|    2.0490463215258856| 0.2146731373108764|\n",
      "|     468.0|            52.0|   37.85|  -122.26|           2.135|       3.075|    1098.0|        474.0|    2491.0| 5.322649572649572|    2.3461538461538463| 0.1902850260939382|\n",
      "|     174.0|            52.0|   37.84|  -122.26|           1.913|      2.6736|     345.0|        191.0|     696.0|               4.0|    1.9827586206896552| 0.2744252873563218|\n",
      "|     620.0|            52.0|   37.85|  -122.26|           1.592|      1.9167|    1212.0|        626.0|    2643.0| 4.262903225806451|    1.9548387096774194|0.23685206205069997|\n",
      "|     264.0|            50.0|   37.85|  -122.26|             1.4|       2.125|     697.0|        283.0|    1120.0| 4.242424242424242|     2.640151515151515| 0.2526785714285714|\n",
      "|     331.0|            52.0|   37.85|  -122.27|           1.525|       2.775|     793.0|        347.0|    1966.0|5.9395770392749245|     2.395770392749245|0.17650050864699898|\n",
      "|     303.0|            52.0|   37.85|  -122.27|           1.555|      2.1202|     648.0|        293.0|    1228.0| 4.052805280528053|    2.1386138613861387|0.23859934853420195|\n",
      "|     419.0|            50.0|   37.84|  -122.26|           1.587|      1.9911|     990.0|        455.0|    2239.0| 5.343675417661098|    2.3627684964200477|0.20321572130415363|\n",
      "|     275.0|            52.0|   37.84|  -122.27|           1.629|      2.6033|     690.0|        298.0|    1503.0| 5.465454545454546|    2.5090909090909093|0.19827012641383898|\n",
      "+----------+----------------+--------+---------+----------------+------------+----------+-------------+----------+------------------+----------------------+-------------------+\n",
      "only showing top 20 rows\n",
      "\n"
     ]
    }
   ],
   "source": [
    "df.show()"
   ]
  },
  {
   "cell_type": "code",
   "execution_count": 40,
   "metadata": {
    "collapsed": true
   },
   "outputs": [],
   "source": [
    "truncated_df = df.select(\"medianHouseValue\", \n",
    "                          \"totalBedRooms\", \n",
    "                          \"population\", \n",
    "                          \"households\", \n",
    "                          \"medianIncome\", \n",
    "                          \"roomsPerHousehold\", \n",
    "                          \"populationPerHousehold\", \n",
    "                          \"bedroomsPerRoom\")\n"
   ]
  },
  {
   "cell_type": "code",
   "execution_count": 41,
   "metadata": {},
   "outputs": [
    {
     "name": "stdout",
     "output_type": "stream",
     "text": [
      "+----------------+-------------+----------+----------+------------+------------------+----------------------+-------------------+\n",
      "|medianHouseValue|totalBedRooms|population|households|medianIncome| roomsPerHousehold|populationPerHousehold|    bedroomsPerRoom|\n",
      "+----------------+-------------+----------+----------+------------+------------------+----------------------+-------------------+\n",
      "|           4.526|        129.0|     322.0|     126.0|      8.3252| 6.984126984126984|    2.5555555555555554|0.14659090909090908|\n",
      "|           3.585|       1106.0|    2401.0|    1138.0|      8.3014| 6.238137082601054|     2.109841827768014|0.15579659106916466|\n",
      "|           3.521|        190.0|     496.0|     177.0|      7.2574| 8.288135593220339|    2.8022598870056497|0.12951601908657123|\n",
      "|           3.413|        235.0|     558.0|     219.0|      5.6431|5.8173515981735155|     2.547945205479452|0.18445839874411302|\n",
      "|           3.422|        280.0|     565.0|     259.0|      3.8462| 6.281853281853282|    2.1814671814671813| 0.1720958819913952|\n",
      "|           2.697|        213.0|     413.0|     193.0|      4.0368| 4.761658031088083|     2.139896373056995|0.23177366702937977|\n",
      "|           2.992|        489.0|    1094.0|     514.0|      3.6591|4.9319066147859925|    2.1284046692607004|0.19289940828402366|\n",
      "|           2.414|        687.0|    1157.0|     647.0|        3.12| 4.797527047913447|    1.7882534775888717|0.22132731958762886|\n",
      "|           2.267|        665.0|    1206.0|     595.0|      2.0804| 4.294117647058823|     2.026890756302521| 0.2602739726027397|\n",
      "|           2.611|        707.0|    1551.0|     714.0|      3.6912| 4.970588235294118|     2.172268907563025| 0.1992110453648915|\n",
      "|           2.815|        434.0|     910.0|     402.0|      3.2031| 5.477611940298507|     2.263681592039801|0.19709355131698456|\n",
      "|           2.418|        752.0|    1504.0|     734.0|      3.2705| 4.772479564032698|    2.0490463215258856| 0.2146731373108764|\n",
      "|           2.135|        474.0|    1098.0|     468.0|       3.075| 5.322649572649572|    2.3461538461538463| 0.1902850260939382|\n",
      "|           1.913|        191.0|     345.0|     174.0|      2.6736|               4.0|    1.9827586206896552| 0.2744252873563218|\n",
      "|           1.592|        626.0|    1212.0|     620.0|      1.9167| 4.262903225806451|    1.9548387096774194|0.23685206205069997|\n",
      "|             1.4|        283.0|     697.0|     264.0|       2.125| 4.242424242424242|     2.640151515151515| 0.2526785714285714|\n",
      "|           1.525|        347.0|     793.0|     331.0|       2.775|5.9395770392749245|     2.395770392749245|0.17650050864699898|\n",
      "|           1.555|        293.0|     648.0|     303.0|      2.1202| 4.052805280528053|    2.1386138613861387|0.23859934853420195|\n",
      "|           1.587|        455.0|     990.0|     419.0|      1.9911| 5.343675417661098|    2.3627684964200477|0.20321572130415363|\n",
      "|           1.629|        298.0|     690.0|     275.0|      2.6033| 5.465454545454546|    2.5090909090909093|0.19827012641383898|\n",
      "+----------------+-------------+----------+----------+------------+------------------+----------------------+-------------------+\n",
      "only showing top 20 rows\n",
      "\n"
     ]
    }
   ],
   "source": [
    "truncated_df.show()"
   ]
  },
  {
   "cell_type": "code",
   "execution_count": 42,
   "metadata": {},
   "outputs": [
    {
     "data": {
      "text/plain": [
       "Row(medianHouseValue=4.526, totalBedRooms=129.0, population=322.0, households=126.0, medianIncome=8.325200080871582, roomsPerHousehold=6.984126984126984, populationPerHousehold=2.5555555555555554, bedroomsPerRoom=0.14659090909090908)"
      ]
     },
     "execution_count": 42,
     "metadata": {},
     "output_type": "execute_result"
    }
   ],
   "source": [
    "truncated_df.first()"
   ]
  },
  {
   "cell_type": "markdown",
   "metadata": {},
   "source": [
    "# Spark dataframe Guide\n",
    "https://spark.apache.org/docs/1.3.1/sql-programming-guide.html\n",
    "\n",
    "https://dzone.com/articles/using-apache-spark-dataframes-for-processing-of-ta"
   ]
  },
  {
   "cell_type": "markdown",
   "metadata": {},
   "source": [
    "# Standardization"
   ]
  },
  {
   "cell_type": "code",
   "execution_count": 43,
   "metadata": {
    "collapsed": true
   },
   "outputs": [],
   "source": [
    "# you have re-ordered the data, you’re ready to normalize the data\n",
    "# next step is to separate the target value for the model training\n",
    "# separating the features from the target variable\n",
    "from pyspark.ml.linalg import DenseVector\n",
    "input_data = truncated_df.rdd.map(lambda x: (x[0], DenseVector(x[1:])))"
   ]
  },
  {
   "cell_type": "markdown",
   "metadata": {},
   "source": [
    "### DenseVector\n",
    "\n",
    "1. This is just to create a feature vector for your feature to be trained\n",
    "2. this can be done by numpy array as well\n",
    "\n",
    "In the dataframe we have 8 columns. from 8 columns first column is you target data and the rest are the input training data. to achive this separate"
   ]
  },
  {
   "cell_type": "code",
   "execution_count": 44,
   "metadata": {},
   "outputs": [
    {
     "data": {
      "text/plain": [
       "PythonRDD[66] at RDD at PythonRDD.scala:48"
      ]
     },
     "execution_count": 44,
     "metadata": {},
     "output_type": "execute_result"
    }
   ],
   "source": [
    "input_data"
   ]
  },
  {
   "cell_type": "code",
   "execution_count": 45,
   "metadata": {
    "collapsed": true
   },
   "outputs": [],
   "source": [
    "input_data_df = spark.createDataFrame(input_data, [\"label\", \"features\"])"
   ]
  },
  {
   "cell_type": "code",
   "execution_count": 46,
   "metadata": {},
   "outputs": [
    {
     "name": "stdout",
     "output_type": "stream",
     "text": [
      "+-----+--------------------+\n",
      "|label|            features|\n",
      "+-----+--------------------+\n",
      "|4.526|[129.0,322.0,126....|\n",
      "|3.585|[1106.0,2401.0,11...|\n",
      "|3.521|[190.0,496.0,177....|\n",
      "|3.413|[235.0,558.0,219....|\n",
      "|3.422|[280.0,565.0,259....|\n",
      "|2.697|[213.0,413.0,193....|\n",
      "|2.992|[489.0,1094.0,514...|\n",
      "|2.414|[687.0,1157.0,647...|\n",
      "|2.267|[665.0,1206.0,595...|\n",
      "|2.611|[707.0,1551.0,714...|\n",
      "|2.815|[434.0,910.0,402....|\n",
      "|2.418|[752.0,1504.0,734...|\n",
      "|2.135|[474.0,1098.0,468...|\n",
      "|1.913|[191.0,345.0,174....|\n",
      "|1.592|[626.0,1212.0,620...|\n",
      "|  1.4|[283.0,697.0,264....|\n",
      "|1.525|[347.0,793.0,331....|\n",
      "|1.555|[293.0,648.0,303....|\n",
      "|1.587|[455.0,990.0,419....|\n",
      "|1.629|[298.0,690.0,275....|\n",
      "+-----+--------------------+\n",
      "only showing top 20 rows\n",
      "\n"
     ]
    }
   ],
   "source": [
    "input_data_df.show()"
   ]
  },
  {
   "cell_type": "markdown",
   "metadata": {},
   "source": [
    "### Data is read for training\n",
    "\n",
    "```Our Input Data frame is input_data_df```\n",
    "\n",
    "For ML Libraries in follow below link for more details. Some of them I Will explain in this tutorial \n",
    "\n",
    "MLlib standardizes APIs for machine learning algorithms\n",
    "\n",
    "https://spark.apache.org/docs/latest/ml-pipeline.html"
   ]
  },
  {
   "cell_type": "markdown",
   "metadata": {},
   "source": [
    "## ML Pipelines\n",
    "1. This combine multiple algorithms into a single pipeline, or workflow.\n",
    "2. Example, If you have stages in your approach like LoadData, PreProcess, Train, Test, FreezeModel\n",
    "3. In the above stages create Pipeline like spark.Pipeline([LoadData, PreProcess, Train, Test, FreezeModel])\n",
    "4. Pipeline will start with LoadData and ends with FreezeModel like we sequentially run our code or methods\n",
    "\n",
    "I will show one example of pipeline but I will try to do it in this jyputer notebook i will rather follow the sequential approach"
   ]
  },
  {
   "cell_type": "markdown",
   "metadata": {},
   "source": [
    "## ===============================\n",
    "# Training\n",
    "## ==============================="
   ]
  },
  {
   "cell_type": "markdown",
   "metadata": {},
   "source": [
    "## Normalize >>>>>\n",
    "1. Before we start training we have to normalize the data for the best fit for training.\n",
    "2. As we have seen earlier in this tutorial how to standardize or normalize the dataset in the pandas dataframe\n",
    "Ex:\n",
    "In \"pandas_df\", we have normalized the data and stored in the \"pandas_df_normalized\". there we have normalized the data set by substracting mean and divided with standard deviation. \n",
    "\n",
    "Same thing will be done by using \"StandardScaler\" function in spark ML Features or your can use \"Normalizer\" as well\n",
    "Follow below link for more details of API\n",
    "https://spark.apache.org/docs/2.2.0/ml-features.html#standardscaler\n",
    "\n"
   ]
  },
  {
   "cell_type": "code",
   "execution_count": 54,
   "metadata": {},
   "outputs": [],
   "source": [
    "# Using StandardScaler\n",
    "from pyspark.ml.feature import StandardScaler\n",
    "\n",
    "# StandardScaler rescale your dataset by normalizing each feature to have unit standard deviation and/or zero mean\n",
    "# Parameters:\n",
    "# [withStd: True by default. Scales the data to unit standard deviation.]\n",
    "# [withMean: False by default. Centers the data with mean before scaling.]\n",
    "\n",
    "scaler = StandardScaler(inputCol=\"features\", outputCol=\"scaledFeatures\",\n",
    "                        withStd=True, withMean=True)\n",
    "scalerModel = scaler.fit(input_data_df)\n",
    "scaledData = scalerModel.transform(input_data_df)"
   ]
  },
  {
   "cell_type": "code",
   "execution_count": 55,
   "metadata": {},
   "outputs": [
    {
     "name": "stdout",
     "output_type": "stream",
     "text": [
      "+-----+--------------------+--------------------+\n",
      "|label|            features|      scaledFeatures|\n",
      "+-----+--------------------+--------------------+\n",
      "|4.526|[129.0,322.0,126....|[-0.9706826023275...|\n",
      "|3.585|[1106.0,2401.0,11...|[1.34861676086480...|\n",
      "|3.521|[190.0,496.0,177....|[-0.8258747608180...|\n",
      "|3.413|[235.0,558.0,219....|[-0.7190493039668...|\n",
      "|3.422|[280.0,565.0,259....|[-0.6122238471155...|\n",
      "|2.697|[213.0,413.0,193....|[-0.7712750828718...|\n",
      "|2.992|[489.0,1094.0,514...|[-0.1160789475176...|\n",
      "|2.414|[687.0,1157.0,647...|[0.35395306262777...|\n",
      "|2.267|[665.0,1206.0,595...|[0.30172728372272...|\n",
      "|2.611|[707.0,1551.0,714...|[0.40143104345054...|\n",
      "|2.815|[434.0,910.0,402....|[-0.2466433947802...|\n",
      "|2.418|[752.0,1504.0,734...|[0.50825650030177...|\n",
      "|2.135|[474.0,1098.0,468...|[-0.1516874331347...|\n",
      "|1.913|[191.0,345.0,174....|[-0.8235008617769...|\n",
      "|1.592|[626.0,1212.0,620...|[0.20914522111832...|\n",
      "|  1.4|[283.0,697.0,264....|[-0.6051021499921...|\n",
      "|1.525|[347.0,793.0,331....|[-0.4531726113593...|\n",
      "|1.555|[293.0,648.0,303....|[-0.5813631595807...|\n",
      "|1.587|[455.0,990.0,419....|[-0.1967915149163...|\n",
      "|1.629|[298.0,690.0,275....|[-0.5694936643750...|\n",
      "+-----+--------------------+--------------------+\n",
      "only showing top 20 rows\n",
      "\n"
     ]
    }
   ],
   "source": [
    "scaledData.show()"
   ]
  },
  {
   "cell_type": "code",
   "execution_count": 65,
   "metadata": {
    "collapsed": true
   },
   "outputs": [],
   "source": [
    "# Using Normalizer\n",
    "from pyspark.ml.feature import Normalizer\n",
    "\n",
    "# Normalizer rescale your dataset by normalizing each feature to have L1 norm\n",
    "normalizer = Normalizer(inputCol=\"features\", outputCol=\"scaledFeatures\", p=1.0)\n",
    "l1NormData = normalizer.transform(input_data_df)"
   ]
  },
  {
   "cell_type": "code",
   "execution_count": 66,
   "metadata": {},
   "outputs": [
    {
     "name": "stdout",
     "output_type": "stream",
     "text": [
      "+-----+--------------------+--------------------+\n",
      "|label|            features|      scaledFeatures|\n",
      "+-----+--------------------+--------------------+\n",
      "|4.526|[129.0,322.0,126....|[0.21680254203295...|\n",
      "|3.585|[1106.0,2401.0,11...|[0.23724715176181...|\n",
      "|3.521|[190.0,496.0,177....|[0.21554723815760...|\n",
      "|3.413|[235.0,558.0,219....|[0.22900178933999...|\n",
      "|3.422|[280.0,565.0,259....|[0.25078782839186...|\n",
      "|2.697|[213.0,413.0,193....|[0.25657391517877...|\n",
      "|2.992|[489.0,1094.0,514...|[0.23198308464096...|\n",
      "|2.414|[687.0,1157.0,647...|[0.27469813009599...|\n",
      "|2.267|[665.0,1206.0,595...|[0.26872360158912...|\n",
      "|2.611|[707.0,1551.0,714...|[0.23700707851144...|\n",
      "|2.815|[434.0,910.0,402....|[0.24699206250527...|\n",
      "|2.418|[752.0,1504.0,734...|[0.25064104288364...|\n",
      "|2.135|[474.0,1098.0,468...|[0.23111420433232...|\n",
      "|1.913|[191.0,345.0,174....|[0.26567230710693...|\n",
      "|1.592|[626.0,1212.0,620...|[0.25381417693358...|\n",
      "|  1.4|[283.0,697.0,264....|[0.22581103886639...|\n",
      "|1.525|[347.0,793.0,331....|[0.23409773921947...|\n",
      "|1.555|[293.0,648.0,303....|[0.23392275670361...|\n",
      "|1.587|[455.0,990.0,419....|[0.24280901625750...|\n",
      "|1.629|[298.0,690.0,275....|[0.23395006102932...|\n",
      "+-----+--------------------+--------------------+\n",
      "only showing top 20 rows\n",
      "\n"
     ]
    }
   ],
   "source": [
    "l1NormData.show()"
   ]
  },
  {
   "cell_type": "code",
   "execution_count": 60,
   "metadata": {},
   "outputs": [],
   "source": [
    "# Data split into Training and Testing\n",
    "# Here I will use both the normalized dataset one by one to test our model\n",
    "# scaledData : \"StandardScaler\" function normalized data  [train_data_s, test_data_s] notation\n",
    "# l1NormData : \"Normalizer\" function normalized data     [train_data_n, test_data_n] notation\n",
    "train_data_s, test_data_s = scaledData.randomSplit([.8,.2],seed=1234)\n",
    "train_data_n, test_data_n = l1NormData.randomSplit([.8,.2],seed=1234)"
   ]
  },
  {
   "cell_type": "markdown",
   "metadata": {},
   "source": [
    "## Machine Learning Model With Spark ML\n",
    "\n",
    "For more Machine Learning Algorithm try following link\n",
    "https://www.datacamp.com/community/tutorials/machine-https://www.datacamp.com/community/tutorials/machine-learning-pythonlearning-python\n",
    "\n",
    "I will explain some of them\n",
    "\n",
    "For API reference go to foloowing link\n",
    "https://spark.apache.org/docs/2.2.0/api/python/pyspark.ml.html#pyspark.ml.regression.LinearRegression\n",
    "\n",
    "For R Programming follow below link\n",
    "http://spark.rstudio.com/reference/ml_linear_regression/"
   ]
  },
  {
   "cell_type": "markdown",
   "metadata": {},
   "source": [
    "# Train Linear Regression"
   ]
  },
  {
   "cell_type": "code",
   "execution_count": 122,
   "metadata": {
    "collapsed": true
   },
   "outputs": [],
   "source": [
    "from pyspark.ml.regression import LinearRegression\n",
    "from pyspark.ml.regression import LinearRegressionModel\n",
    "# weightCol: Weight column\n",
    "# tol: Tolerance level\n",
    "# standardization: standardization as we have done earlier\n",
    "# solver\n",
    "# regParam: Regularization \n",
    "# predictionCol: Prediction Column\n",
    "# maxIter: Iteration\n",
    "# featuresCol: Feature Column\n",
    "# elasticNetParam: Elasticity Parameter\n",
    "# loss: Loss Function [squaredError, huber]\n",
    "# epsilon: Epsilon "
   ]
  },
  {
   "cell_type": "code",
   "execution_count": 81,
   "metadata": {},
   "outputs": [],
   "source": [
    "lr = LinearRegression(featuresCol = 'scaledFeatures', \n",
    "                      labelCol='label', \n",
    "                      maxIter=50, \n",
    "                      regParam=0.3, \n",
    "                      elasticNetParam=0.8, \n",
    "                      solver=\"normal\",\n",
    "                      loss=\"squaredError\",\n",
    "                      fitIntercept=True)"
   ]
  },
  {
   "cell_type": "code",
   "execution_count": 82,
   "metadata": {
    "collapsed": true
   },
   "outputs": [],
   "source": [
    "lr_model = lr.fit(train_data_s)"
   ]
  },
  {
   "cell_type": "code",
   "execution_count": 98,
   "metadata": {},
   "outputs": [
    {
     "data": {
      "text/plain": [
       "DenseVector([0.0, 0.0, 0.0, 0.5316, 0.0, 0.0, 0.0])"
      ]
     },
     "execution_count": 98,
     "metadata": {},
     "output_type": "execute_result"
    }
   ],
   "source": [
    "# The coefficients\n",
    "lr_model.coefficients"
   ]
  },
  {
   "cell_type": "code",
   "execution_count": 97,
   "metadata": {},
   "outputs": [
    {
     "data": {
      "text/plain": [
       "2.066458979451869"
      ]
     },
     "execution_count": 97,
     "metadata": {},
     "output_type": "execute_result"
    }
   ],
   "source": [
    "# The intercept\n",
    "lr_model.intercept"
   ]
  },
  {
   "cell_type": "code",
   "execution_count": 104,
   "metadata": {
    "collapsed": true
   },
   "outputs": [],
   "source": [
    "tr_summary_lr = lr_model.summary"
   ]
  },
  {
   "cell_type": "code",
   "execution_count": 113,
   "metadata": {},
   "outputs": [
    {
     "data": {
      "text/plain": [
       "0.8764168648364763"
      ]
     },
     "execution_count": 113,
     "metadata": {},
     "output_type": "execute_result"
    }
   ],
   "source": [
    "#smaller an RMSE value, the closer predicted and observed values are\n",
    "tr_summary_lr.rootMeanSquaredError"
   ]
  },
  {
   "cell_type": "code",
   "execution_count": 106,
   "metadata": {},
   "outputs": [
    {
     "name": "stdout",
     "output_type": "stream",
     "text": [
      "+-------------------+\n",
      "|          residuals|\n",
      "+-------------------+\n",
      "| -2.006720235739934|\n",
      "|  -1.47061238023092|\n",
      "| -1.506882001314473|\n",
      "|-0.9798902298376403|\n",
      "|-1.0638652835756917|\n",
      "|-1.5177391573247523|\n",
      "|-0.9731906945221331|\n",
      "|-1.3613119489039995|\n",
      "|-1.3287065695123998|\n",
      "| -1.062498622952322|\n",
      "|-1.4217803943232756|\n",
      "|-1.0228358682735217|\n",
      "|-1.7834686476957586|\n",
      "|-1.1178242243818775|\n",
      "|-1.1700952737642003|\n",
      "| -1.176559204107277|\n",
      "|-0.9753395279228012|\n",
      "| -1.144235169084425|\n",
      "|-0.9398417132373327|\n",
      "|-1.2397993972102546|\n",
      "+-------------------+\n",
      "only showing top 20 rows\n",
      "\n"
     ]
    }
   ],
   "source": [
    "tr_summary_lr.residuals.show()"
   ]
  },
  {
   "cell_type": "code",
   "execution_count": 107,
   "metadata": {},
   "outputs": [
    {
     "data": {
      "text/plain": [
       "[0.5000000000000002,\n",
       " 0.47013465437019386,\n",
       " 0.3939823955746674,\n",
       " 0.3920419381794541,\n",
       " 0.3895587976914163,\n",
       " 0.3894238036526684,\n",
       " 0.38938858697924855,\n",
       " 0.38937939980255354,\n",
       " 0.3893770030907852,\n",
       " 0.3893763778467639,\n",
       " 0.38937621473575046,\n",
       " 0.3893761721840394,\n",
       " 0.38937616115207646,\n",
       " 0.3893761579056647,\n",
       " 0.38937615723571983,\n",
       " 0.3893761571720026,\n",
       " 0.38937615716594276,\n",
       " 0.38937615716536633]"
      ]
     },
     "execution_count": 107,
     "metadata": {},
     "output_type": "execute_result"
    }
   ],
   "source": [
    "tr_summary_lr.objectiveHistory"
   ]
  },
  {
   "cell_type": "code",
   "execution_count": 108,
   "metadata": {},
   "outputs": [
    {
     "data": {
      "text/plain": [
       "18"
      ]
     },
     "execution_count": 108,
     "metadata": {},
     "output_type": "execute_result"
    }
   ],
   "source": [
    "tr_summary_lr.totalIterations"
   ]
  },
  {
   "cell_type": "code",
   "execution_count": 114,
   "metadata": {},
   "outputs": [
    {
     "data": {
      "text/plain": [
       "0.4229759607534169"
      ]
     },
     "execution_count": 114,
     "metadata": {},
     "output_type": "execute_result"
    }
   ],
   "source": [
    "# coefficient of determination is a measure that shows how close the data are to the fitted regression line\n",
    "tr_summary_lr.r2"
   ]
  },
  {
   "cell_type": "markdown",
   "metadata": {},
   "source": [
    "## Validate Model and Save Model - Linear Regression"
   ]
  },
  {
   "cell_type": "code",
   "execution_count": 110,
   "metadata": {
    "collapsed": true
   },
   "outputs": [],
   "source": [
    "predicted = lr_model.transform(test_data_s)"
   ]
  },
  {
   "cell_type": "code",
   "execution_count": 111,
   "metadata": {},
   "outputs": [
    {
     "name": "stderr",
     "output_type": "stream",
     "text": [
      "Exception ignored in: <object repr() failed>\n",
      "Traceback (most recent call last):\n",
      "  File \"/Users/anilnayak/anaconda/lib/python3.6/site-packages/pyspark/ml/wrapper.py\", line 105, in __del__\n",
      "    SparkContext._active_spark_context._gateway.detach(self._java_obj)\n",
      "AttributeError: 'LinearRegression' object has no attribute '_java_obj'\n"
     ]
    }
   ],
   "source": [
    "predictions = predicted.select(\"prediction\").rdd.map(lambda x: x[0])\n",
    "labels = predicted.select(\"label\").rdd.map(lambda x: x[0])\n",
    "predictionAndLabel = predictions.zip(labels).collect()"
   ]
  },
  {
   "cell_type": "code",
   "execution_count": 112,
   "metadata": {},
   "outputs": [
    {
     "data": {
      "text/plain": [
       "[(1.1333393374396872, 0.14999),\n",
       " (1.4480569267207897, 0.14999),\n",
       " (1.5709834178225561, 0.14999),\n",
       " (1.7494269503374564, 0.283),\n",
       " (1.2432540402026728, 0.366)]"
      ]
     },
     "execution_count": 112,
     "metadata": {},
     "output_type": "execute_result"
    }
   ],
   "source": [
    "predictionAndLabel[:5] # Prediction and Label"
   ]
  },
  {
   "cell_type": "code",
   "execution_count": 124,
   "metadata": {},
   "outputs": [
    {
     "data": {
      "text/plain": [
       "True"
      ]
     },
     "execution_count": 124,
     "metadata": {},
     "output_type": "execute_result"
    }
   ],
   "source": [
    "model_path = \"/Users/anilnayak/BigData/spark_project_regression/lr_model\"\n",
    "lr_model.save(model_path)\n",
    "model2 = LinearRegressionModel.load(model_path)\n",
    "# Check the model that is saved is correct\n",
    "model2.coefficients==lr_model.coefficients"
   ]
  },
  {
   "cell_type": "markdown",
   "metadata": {},
   "source": [
    "# Next Tutorial will be on \n",
    "1. Decision Tree Regressor\n",
    "2. Classification https://spark.apache.org/docs/latest/ml-classification-regression.html#classification\n",
    "3. Clustering [K-means]  https://spark.apache.org/docs/latest/ml-clustering.html\n",
    "4. Random Forest https://spark.apache.org/docs/latest/ml-classification-regression.html#random-forest-classifier\n",
    "5. Principal component analysis (PCA)\n",
    "6. Singular value decomposition (SVD)\n",
    "7. Frequent Pattern Mining\n",
    "\n",
    "Try some of them before next tutorial"
   ]
  },
  {
   "cell_type": "code",
   "execution_count": 125,
   "metadata": {
    "collapsed": true
   },
   "outputs": [],
   "source": [
    "from pyspark.ml.regression import DecisionTreeRegressor\n",
    "from pyspark.ml.clustering import KMeans\n",
    "from pyspark.ml.classification import LogisticRegression\n",
    "from pyspark.ml.classification import RandomForestClassifier\n",
    "from pyspark.ml.classification import LinearSVC\n",
    "from pyspark.ml.classification import LogisticRegression, OneVsRest\n",
    "from pyspark.ml.evaluation import MulticlassClassificationEvaluator\n",
    "from pyspark.ml.classification import NaiveBayes\n",
    "from pyspark.ml.fpm import FPGrowth"
   ]
  },
  {
   "cell_type": "code",
   "execution_count": 126,
   "metadata": {
    "collapsed": true
   },
   "outputs": [],
   "source": [
    "spark.stop()"
   ]
  },
  {
   "cell_type": "code",
   "execution_count": null,
   "metadata": {
    "collapsed": true
   },
   "outputs": [],
   "source": []
  }
 ],
 "metadata": {
  "kernelspec": {
   "display_name": "Python 3",
   "language": "python",
   "name": "python3"
  },
  "language_info": {
   "codemirror_mode": {
    "name": "ipython",
    "version": 3
   },
   "file_extension": ".py",
   "mimetype": "text/x-python",
   "name": "python",
   "nbconvert_exporter": "python",
   "pygments_lexer": "ipython3",
   "version": "3.6.1"
  }
 },
 "nbformat": 4,
 "nbformat_minor": 2
}
